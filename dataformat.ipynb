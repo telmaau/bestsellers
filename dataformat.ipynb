{
 "cells": [
  {
   "cell_type": "code",
   "execution_count": 2,
   "metadata": {},
   "outputs": [],
   "source": [
    "import glob\n",
    "import re\n",
    "import json\n",
    "import pandas as pd\n",
    "import numpy as np\n",
    "import re"
   ]
  },
  {
   "cell_type": "markdown",
   "metadata": {},
   "source": [
    "This is a notebook to convert json dictionaries into csv files"
   ]
  },
  {
   "cell_type": "code",
   "execution_count": 3,
   "metadata": {},
   "outputs": [
    {
     "data": {
      "text/plain": [
       "['books/paperback-nonfiction.json',\n",
       " 'books/series-books.json',\n",
       " 'books/young-adult-hardcover.json',\n",
       " 'books/business-books.json',\n",
       " 'books/trade-fiction-paperback.json',\n",
       " 'books/hardcover-fiction.json',\n",
       " 'books/trial.json',\n",
       " 'books/advice-how-to-and-miscellaneous.json',\n",
       " 'books/hardcover-nonfiction.json',\n",
       " 'books/combined-print-and-e-book-nonfiction.json',\n",
       " 'books/audio-fiction.json',\n",
       " 'books/childrens-middle-grade-hardcover.json',\n",
       " 'books/picture-books.json',\n",
       " 'books/audio-nonfiction.json',\n",
       " 'books/combined-print-and-e-book-fiction.json']"
      ]
     },
     "execution_count": 3,
     "metadata": {},
     "output_type": "execute_result"
    }
   ],
   "source": [
    "# see all lists\n",
    "lists = glob.glob(\"books/*\")\n",
    "lists"
   ]
  },
  {
   "cell_type": "code",
   "execution_count": 8,
   "metadata": {
    "scrolled": true
   },
   "outputs": [
    {
     "name": "stdout",
     "output_type": "stream",
     "text": [
      "books/hardcover-fiction.json\n",
      "<class 'dict'> ['2016-12-04', '2016-12-11', '2016-12-18', '2016-12-25']\n",
      "Nr of lists: 261\n"
     ]
    }
   ],
   "source": [
    "# see one list as an example\n",
    "alist = lists[5]\n",
    "print(alist)\n",
    "with open(alist) as fp:\n",
    "    combific=json.load(fp)\n",
    "print(type(combific), list(combific.keys())[0:4])\n",
    "print(\"Nr of lists:\",len(combific))"
   ]
  },
  {
   "cell_type": "code",
   "execution_count": 9,
   "metadata": {},
   "outputs": [
    {
     "name": "stdout",
     "output_type": "stream",
     "text": [
      "20\n"
     ]
    }
   ],
   "source": [
    "# make a list of keys that I need:\n",
    "\n",
    "keys= list(combific[list(combific.keys())[2]][0].keys())\n",
    "print(len(combific[list(combific.keys())[0]]))\n",
    "csvkeys= [\"date\",\"list\"]+keys[:13]"
   ]
  },
  {
   "cell_type": "code",
   "execution_count": 10,
   "metadata": {},
   "outputs": [
    {
     "data": {
      "text/html": [
       "<div>\n",
       "<style scoped>\n",
       "    .dataframe tbody tr th:only-of-type {\n",
       "        vertical-align: middle;\n",
       "    }\n",
       "\n",
       "    .dataframe tbody tr th {\n",
       "        vertical-align: top;\n",
       "    }\n",
       "\n",
       "    .dataframe thead th {\n",
       "        text-align: right;\n",
       "    }\n",
       "</style>\n",
       "<table border=\"1\" class=\"dataframe\">\n",
       "  <thead>\n",
       "    <tr style=\"text-align: right;\">\n",
       "      <th></th>\n",
       "      <th>date</th>\n",
       "      <th>list</th>\n",
       "      <th>rank</th>\n",
       "      <th>rank_last_week</th>\n",
       "      <th>weeks_on_list</th>\n",
       "      <th>asterisk</th>\n",
       "      <th>dagger</th>\n",
       "      <th>primary_isbn10</th>\n",
       "      <th>primary_isbn13</th>\n",
       "      <th>publisher</th>\n",
       "      <th>description</th>\n",
       "      <th>price</th>\n",
       "      <th>title</th>\n",
       "      <th>author</th>\n",
       "      <th>contributor</th>\n",
       "    </tr>\n",
       "  </thead>\n",
       "  <tbody>\n",
       "  </tbody>\n",
       "</table>\n",
       "</div>"
      ],
      "text/plain": [
       "Empty DataFrame\n",
       "Columns: [date, list, rank, rank_last_week, weeks_on_list, asterisk, dagger, primary_isbn10, primary_isbn13, publisher, description, price, title, author, contributor]\n",
       "Index: []"
      ]
     },
     "execution_count": 10,
     "metadata": {},
     "output_type": "execute_result"
    }
   ],
   "source": [
    "bookset = pd.DataFrame(columns= csvkeys)\n",
    "bookset"
   ]
  },
  {
   "cell_type": "code",
   "execution_count": 7,
   "metadata": {
    "tags": []
   },
   "outputs": [
    {
     "name": "stdout",
     "output_type": "stream",
     "text": [
      "books/paperback-nonfiction.json\n",
      "paperback-nonfiction\n",
      "3625\n",
      "books/series-books.json\n",
      "series-books\n",
      "2610\n",
      "books/young-adult-hardcover.json\n",
      "young-adult-hardcover\n",
      "2610\n",
      "books/business-books.json\n",
      "business-books\n",
      "2610\n",
      "books/trade-fiction-paperback.json\n",
      "trade-fiction-paperback\n",
      "3625\n",
      "books/hardcover-fiction.json\n",
      "hardcover-fiction\n",
      "3960\n",
      "books/trial.json\n",
      "trial\n",
      "795\n",
      "books/advice-how-to-and-miscellaneous.json\n",
      "advice-how-to-and-miscellaneous\n",
      "2655\n",
      "books/hardcover-nonfiction.json\n",
      "hardcover-nonfiction\n",
      "3960\n",
      "books/combined-print-and-e-book-nonfiction.json\n",
      "combined-print-and-e-book-nonfiction\n",
      "3960\n",
      "books/audio-fiction.json\n",
      "audio-fiction\n",
      "2940\n",
      "books/childrens-middle-grade-hardcover.json\n",
      "childrens-middle-grade-hardcover\n",
      "2610\n",
      "books/picture-books.json\n",
      "picture-books\n",
      "2610\n",
      "books/audio-nonfiction.json\n",
      "audio-nonfiction\n",
      "2940\n",
      "books/combined-print-and-e-book-fiction.json\n",
      "combined-print-and-e-book-fiction\n",
      "3960\n"
     ]
    }
   ],
   "source": [
    "# loop through all lists to compile a dataframe\n",
    "\n",
    "for alist in lists:\n",
    "    bookset = pd.DataFrame(columns= csvkeys)\n",
    "    print(alist)\n",
    "    name =alist.replace(\".json\",\"\").split(\"/\")[-1]\n",
    "    print(name)\n",
    "    with open(alist) as fp:\n",
    "        bookdict=json.load(fp)\n",
    "\n",
    "    for k,v in bookdict.items():\n",
    "        for book in v:\n",
    "            bdict={}\n",
    "            bdict[\"date\"] = k\n",
    "            bdict[\"list\"]=name\n",
    "            for bk, bv in book.items():\n",
    "                if bk in csvkeys:\n",
    "                    bdict[bk] = bv\n",
    "\n",
    "            bookset = bookset.append(bdict,\n",
    "                   ignore_index = True)\n",
    "    print(len(bookset))\n",
    "    bookset.to_csv(str(name+\".csv\"))"
   ]
  },
  {
   "cell_type": "code",
   "execution_count": null,
   "metadata": {},
   "outputs": [],
   "source": [
    "# Ta-da!"
   ]
  }
 ],
 "metadata": {
  "kernelspec": {
   "display_name": "fabula",
   "language": "python",
   "name": "fabula"
  },
  "language_info": {
   "codemirror_mode": {
    "name": "ipython",
    "version": 3
   },
   "file_extension": ".py",
   "mimetype": "text/x-python",
   "name": "python",
   "nbconvert_exporter": "python",
   "pygments_lexer": "ipython3",
   "version": "3.8.10"
  }
 },
 "nbformat": 4,
 "nbformat_minor": 5
}
